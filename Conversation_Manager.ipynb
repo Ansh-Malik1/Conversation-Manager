{
  "nbformat": 4,
  "nbformat_minor": 0,
  "metadata": {
    "colab": {
      "provenance": [],
      "authorship_tag": "ABX9TyP3Bd7We0b4/9fYfTCb1e9T",
      "include_colab_link": true
    },
    "kernelspec": {
      "name": "python3",
      "display_name": "Python 3"
    },
    "language_info": {
      "name": "python"
    }
  },
  "cells": [
    {
      "cell_type": "markdown",
      "metadata": {
        "id": "view-in-github",
        "colab_type": "text"
      },
      "source": [
        "<a href=\"https://colab.research.google.com/github/Ansh-Malik1/Conversation-Manager/blob/main/Conversation_Manager.ipynb\" target=\"_parent\"><img src=\"https://colab.research.google.com/assets/colab-badge.svg\" alt=\"Open In Colab\"/></a>"
      ]
    },
    {
      "cell_type": "code",
      "execution_count": null,
      "metadata": {
        "colab": {
          "base_uri": "https://localhost:8080/"
        },
        "id": "ugd10UvA42BY",
        "outputId": "58d21b81-58a7-40f6-fc60-019218bef5f8"
      },
      "outputs": [
        {
          "output_type": "stream",
          "name": "stdout",
          "text": [
            "Requirement already satisfied: openai in /usr/local/lib/python3.12/dist-packages (1.106.1)\n",
            "Requirement already satisfied: jsonschema in /usr/local/lib/python3.12/dist-packages (4.25.1)\n",
            "Requirement already satisfied: requests in /usr/local/lib/python3.12/dist-packages (2.32.4)\n",
            "\u001b[31mERROR: Could not find a version that satisfies the requirement groq-openai-client (from versions: none)\u001b[0m\u001b[31m\n",
            "\u001b[0m\u001b[31mERROR: No matching distribution found for groq-openai-client\u001b[0m\u001b[31m\n",
            "\u001b[0m"
          ]
        }
      ],
      "source": [
        "!pip install openai jsonschema requests groq-openai-client"
      ]
    },
    {
      "cell_type": "code",
      "source": [
        "!pip install groq\n"
      ],
      "metadata": {
        "colab": {
          "base_uri": "https://localhost:8080/",
          "height": 0
        },
        "id": "uR0-T4dR80tI",
        "outputId": "fe533ffc-9291-44b9-8a26-a42cbbc209a5"
      },
      "execution_count": 3,
      "outputs": [
        {
          "output_type": "stream",
          "name": "stdout",
          "text": [
            "Collecting groq\n",
            "  Downloading groq-0.31.1-py3-none-any.whl.metadata (16 kB)\n",
            "Requirement already satisfied: anyio<5,>=3.5.0 in /usr/local/lib/python3.12/dist-packages (from groq) (4.10.0)\n",
            "Requirement already satisfied: distro<2,>=1.7.0 in /usr/local/lib/python3.12/dist-packages (from groq) (1.9.0)\n",
            "Requirement already satisfied: httpx<1,>=0.23.0 in /usr/local/lib/python3.12/dist-packages (from groq) (0.28.1)\n",
            "Requirement already satisfied: pydantic<3,>=1.9.0 in /usr/local/lib/python3.12/dist-packages (from groq) (2.11.7)\n",
            "Requirement already satisfied: sniffio in /usr/local/lib/python3.12/dist-packages (from groq) (1.3.1)\n",
            "Requirement already satisfied: typing-extensions<5,>=4.10 in /usr/local/lib/python3.12/dist-packages (from groq) (4.15.0)\n",
            "Requirement already satisfied: idna>=2.8 in /usr/local/lib/python3.12/dist-packages (from anyio<5,>=3.5.0->groq) (3.10)\n",
            "Requirement already satisfied: certifi in /usr/local/lib/python3.12/dist-packages (from httpx<1,>=0.23.0->groq) (2025.8.3)\n",
            "Requirement already satisfied: httpcore==1.* in /usr/local/lib/python3.12/dist-packages (from httpx<1,>=0.23.0->groq) (1.0.9)\n",
            "Requirement already satisfied: h11>=0.16 in /usr/local/lib/python3.12/dist-packages (from httpcore==1.*->httpx<1,>=0.23.0->groq) (0.16.0)\n",
            "Requirement already satisfied: annotated-types>=0.6.0 in /usr/local/lib/python3.12/dist-packages (from pydantic<3,>=1.9.0->groq) (0.7.0)\n",
            "Requirement already satisfied: pydantic-core==2.33.2 in /usr/local/lib/python3.12/dist-packages (from pydantic<3,>=1.9.0->groq) (2.33.2)\n",
            "Requirement already satisfied: typing-inspection>=0.4.0 in /usr/local/lib/python3.12/dist-packages (from pydantic<3,>=1.9.0->groq) (0.4.1)\n",
            "Downloading groq-0.31.1-py3-none-any.whl (134 kB)\n",
            "\u001b[2K   \u001b[90m━━━━━━━━━━━━━━━━━━━━━━━━━━━━━━━━━━━━━━━━\u001b[0m \u001b[32m134.9/134.9 kB\u001b[0m \u001b[31m4.0 MB/s\u001b[0m eta \u001b[36m0:00:00\u001b[0m\n",
            "\u001b[?25hInstalling collected packages: groq\n",
            "Successfully installed groq-0.31.1\n"
          ]
        }
      ]
    },
    {
      "cell_type": "code",
      "source": [
        "from google.colab import userdata\n",
        "api_key=userdata.get('GROQ_API_KEY')\n",
        "if api_key:\n",
        "  print(\"API KEY retrieved successfully from secrets\")\n",
        "else:\n",
        "  print(\"Error in retrievin API KEY\")"
      ],
      "metadata": {
        "id": "1DQa7yzWef_a",
        "colab": {
          "base_uri": "https://localhost:8080/",
          "height": 0
        },
        "outputId": "e6874e34-68d6-4ed3-91bd-8b027c848d1d"
      },
      "execution_count": 4,
      "outputs": [
        {
          "output_type": "stream",
          "name": "stdout",
          "text": [
            "API KEY retrieved successfully from secrets\n"
          ]
        }
      ]
    },
    {
      "cell_type": "markdown",
      "source": [
        "##  Task 1 :\n",
        "### 1. To maintain a running conversation history with user-assistant chats\n",
        "### 2. To implement summarization history to keep it concise.\n",
        "### 3. To truncate by last n messages/limit by character or word length\n",
        "### 4. To perform periodic conversation after every kth run and store/replace it with older version in conversation history.\n",
        "### 5. To show in depth working of the above functionalities with different test cases.\n",
        "\n",
        "#### Text cells after each tasks contain all the necessary informtion and approach for all the sub tasks. Please refer to them for further clarification."
      ],
      "metadata": {
        "id": "TASrLikvcPF0"
      }
    },
    {
      "cell_type": "code",
      "source": [
        "import json\n",
        "from typing import List, Dict, Optional, Union\n",
        "from copy import deepcopy\n",
        "from groq import Groq\n",
        "class ConversationManager:\n",
        "  def __init__(self):\n",
        "    self.history : List[Dict[str,str]]= []\n",
        "    self.run_count=0 # Will be used in later stages to perform summarization after every k-th run\n",
        "    self.client=Groq(api_key=api_key)\n",
        "\n",
        "  def add_message(self,role:str,content:str):\n",
        "    assert role in (\"user\",\"assistant\",\"system\")\n",
        "    self.history.append({'role':role,'content':content})\n",
        "\n",
        "  def get_history(self)-> List[Dict[str,str]]:\n",
        "    return deepcopy(self.history)\n",
        "\n",
        "  # code for summarization\n",
        "  def summarize_text(self,text:str)->str:\n",
        "    response=self.client.chat.completions.create(\n",
        "        model=\"llama-3.1-8b-instant\",\n",
        "        messages=[\n",
        "            {\"role\":\"system\",\"content\": \"You are an assistant whose goal is to summarize conversation. Keep the contextual meaning intact but compress the conversation. Make sure the summary is in such a way that it cleaerly depicts the conversation uptil now without missing any major points.Dont ask any followup questions. Just take the summary and summarize it, dont add any other text,command, greetings, etc..\"},\n",
        "            {\"role\":\"user\",\"content\":f\"summarize the following conversation: \\n\\n {text}\"}\n",
        "        ]\n",
        "    )\n",
        "    return response.choices[0].message.content.strip()\n",
        "\n",
        "  def summarize_history(self,max_chars=600):\n",
        "    combined = '\\n'.join([f\"{m['role']}: {m['content']}\" for m in self.history])\n",
        "    combined=combined[:max_chars]\n",
        "    summary=self.summarize_text(combined)\n",
        "    self.history = [{'role': 'system', 'content': f\"[SUMMARY]\\n{summary}\"}]\n",
        "    return summary\n",
        "\n",
        "  def periodic_summary(self,k:int):\n",
        "    self.run_count+=1\n",
        "    if k>0 and (self.run_count%k==0):\n",
        "      return self.summarize_history()\n",
        "    return None\n",
        "\n",
        "  def truncate_by_turns(self,n:int)-> List[Dict[str,str]]:\n",
        "    if n<=0:\n",
        "      return []\n",
        "    return deepcopy(self.history[-n:])\n",
        "\n",
        "  def truncate_by_chars(self,max_chars:int)-> List[Dict[str,str]]:\n",
        "    if max_chars<=0:\n",
        "      return []\n",
        "    kept=[]\n",
        "    total=0\n",
        "    for msg in reversed(self.history):\n",
        "      l=len(msg['content'])\n",
        "      if total+l<=max_chars:\n",
        "        kept.insert(0,msg)\n",
        "        total+=l\n",
        "      else:\n",
        "        remaining=max_chars-total\n",
        "        if remaining>0:\n",
        "          kept.insert(0,{\n",
        "              \"role\":msg[\"role\"],\n",
        "              \"content\":msg[\"content\"][-remaining:]\n",
        "          })\n",
        "        break\n",
        "    return list(reversed(deepcopy(kept)))\n",
        "\n",
        "  def truncate_by_words(self,max_words:int)-> List[Dict[str,str]]:\n",
        "    if max_words<=0:\n",
        "      return []\n",
        "    kept=[]\n",
        "    total=0\n",
        "    for msg in reversed(self.history):\n",
        "      words = msg[\"content\"].split()\n",
        "      w=len(msg['content'].split())\n",
        "      if total+w<=max_words:\n",
        "        kept.insert(0,msg )\n",
        "        total+=w\n",
        "      else:\n",
        "        remaining=max_words-total\n",
        "        if remaining>0:\n",
        "          kept.insert(0,{\n",
        "              \"role\":msg[\"role\"],\n",
        "              \"content\":\" \".join(words[-remaining:])\n",
        "          })\n",
        "        break\n",
        "    return list(reversed(deepcopy(kept)))\n",
        "\n",
        "\n",
        "\n"
      ],
      "metadata": {
        "id": "90KVOPl4ek_C"
      },
      "execution_count": 15,
      "outputs": []
    },
    {
      "cell_type": "markdown",
      "source": [
        "### Testing\n",
        "Cases covered :\n",
        "\n",
        "\n",
        "1.   Printing full history\n",
        "2.   Truncation by turns\n",
        "\n",
        "1.   Truncation by chars\n",
        "2.   Truncation by words\n",
        "\n",
        "1.   Periodic Summarization\n",
        "\n",
        "\n",
        "\n",
        "\n",
        "\n"
      ],
      "metadata": {
        "id": "lS6ddaXzetS4"
      }
    },
    {
      "cell_type": "code",
      "source": [
        "convo_manager = ConversationManager()\n",
        "messages=[\"Hello How are you\",\n",
        "          \"I want to know where is India\",\n",
        "          \"What is a lesser known fact about India\",\n",
        "          \"What are some of its neighbouring countries\"\n",
        "]\n",
        "\n",
        "for i, msg in enumerate(messages, start=1):\n",
        "  convo_manager.add_message(\"user\", msg)\n",
        "  response = convo_manager.client.chat.completions.create(\n",
        "        model=\"llama-3.1-8b-instant\",\n",
        "        messages=convo_manager.get_history()\n",
        "    )\n",
        "  assistant_reply = response.choices[0].message.content.strip()\n",
        "  convo_manager.add_message(\"assistant\", assistant_reply)\n",
        "  # Printing history of the conversation\n",
        "  print(\"-----HISTORY-----\")\n",
        "  for m in convo_manager.get_history():\n",
        "    print(m['role'], ':', m['content'])\n",
        "  print(\"--------------\")\n",
        "\n",
        "  # Testing for periodic summary functionality\n",
        "  summary = convo_manager.periodic_summary(k=2)\n",
        "  if summary:\n",
        "    print(\"\\n>>> [SUMMARY TRIGGERED]\")\n",
        "    print(summary)\n",
        "    print(\"-------------------------\")\n",
        "\n",
        "print('Full history ({} messages):'.format(len(convo_manager.get_history())))\n",
        "for m in convo_manager.get_history():\n",
        "    print(m['role'], ':', m['content'])\n",
        "\n"
      ],
      "metadata": {
        "colab": {
          "base_uri": "https://localhost:8080/",
          "height": 0
        },
        "id": "hdUVPep3L79T",
        "outputId": "bc358530-5406-4a29-fe20-d937039ac4be"
      },
      "execution_count": 20,
      "outputs": [
        {
          "output_type": "stream",
          "name": "stdout",
          "text": [
            "-----HISTORY-----\n",
            "user : Hello How are you\n",
            "assistant : Hello. I'm functioning properly, thank you for asking. How can I assist you today?\n",
            "--------------\n",
            "-----HISTORY-----\n",
            "user : Hello How are you\n",
            "assistant : Hello. I'm functioning properly, thank you for asking. How can I assist you today?\n",
            "user : I want to know where is India\n",
            "assistant : India is a country located in South Asia, on the Indian subcontinent. It shares borders with several countries:\n",
            "\n",
            "1. Pakistan to the west\n",
            "2. Afghanistan and Iran to the northwest\n",
            "3. China, Nepal, and Bhutan to the north and northeast\n",
            "4. Bangladesh and Myanmar (Burma) to the east\n",
            "\n",
            "India is situated on the Indian subcontinent, which also includes Sri Lanka and the Maldives. The country extends from the Himalayan Mountains in the north to the Indian Ocean in the south.\n",
            "\n",
            "India is the seventh-largest country in the world by area and is bounded by:\n",
            "\n",
            "- Latitude: 8°04′ to 37°06′ N\n",
            "- Longitude: 68°07′ to 97°25′ E\n",
            "\n",
            "India is a republic, with its capital city located at New Delhi.\n",
            "--------------\n",
            "\n",
            ">>> [SUMMARY TRIGGERED]\n",
            "User: Hello, how are you.\n",
            "Assistant: I'm functioning properly. How can I assist you today? \n",
            "User: I want to know where is India.\n",
            "Assistant: India is a country in South Asia, bordering Pakistan, Afghanistan, Iran, China, Nepal, Bhutan, Bangladesh, and Myanmar.\n",
            "-------------------------\n",
            "-----HISTORY-----\n",
            "system : [SUMMARY]\n",
            "User: Hello, how are you.\n",
            "Assistant: I'm functioning properly. How can I assist you today? \n",
            "User: I want to know where is India.\n",
            "Assistant: India is a country in South Asia, bordering Pakistan, Afghanistan, Iran, China, Nepal, Bhutan, Bangladesh, and Myanmar.\n",
            "user : What is a lesser known fact about India\n",
            "assistant : One lesser-known fact about India is that it is home to the largest number of languages spoken at home. According to the 2011 census, there are over 22 officially recognized languages and more than 1,600 dialects spoken across the country. This linguistic diversity is a significant aspect of Indian culture.\n",
            "--------------\n",
            "-----HISTORY-----\n",
            "system : [SUMMARY]\n",
            "User: Hello, how are you.\n",
            "Assistant: I'm functioning properly. How can I assist you today? \n",
            "User: I want to know where is India.\n",
            "Assistant: India is a country in South Asia, bordering Pakistan, Afghanistan, Iran, China, Nepal, Bhutan, Bangladesh, and Myanmar.\n",
            "user : What is a lesser known fact about India\n",
            "assistant : One lesser-known fact about India is that it is home to the largest number of languages spoken at home. According to the 2011 census, there are over 22 officially recognized languages and more than 1,600 dialects spoken across the country. This linguistic diversity is a significant aspect of Indian culture.\n",
            "user : What are some of its neighbouring countries\n",
            "assistant : India is bordered by the following countries:\n",
            "\n",
            "1. Pakistan (to the northwest) \n",
            "2. Afghanistan (to the north)\n",
            "3. China (to the northeast)\n",
            "4. Nepal (to the northwest) (Note: India and Nepal also share a significant border with India's state of Uttarakhand but it depends on the perspective)\n",
            "5. Bhutan (to the northeast)\n",
            "6. Bangladesh (to the east)\n",
            "7. Myanmar (also known as Burma) (to the southeast)\n",
            "\n",
            "In addition to these countries, India also shares maritime borders with:\n",
            "\n",
            "1. Sri Lanka and the Maldives in the Indian Ocean\n",
            "2. Thailand and Indonesia via the Bay of Bengal and the Andaman Sea\n",
            "3. Somalia via the Arabian Sea\n",
            "--------------\n",
            "\n",
            ">>> [SUMMARY TRIGGERED]\n",
            "The conversation started with the user greeting the assistant and asking how they are. The assistant responded that they are functioning properly and offered assistance. The user then inquired about the location of India, and the assistant provided a general geographical description. The user asked for a lesser-known fact about India, and the assistant mentioned that India has the largest number of languages spoken across its regions, with over 1,600 dialects and 22 official languages.\n",
            "-------------------------\n",
            "Full history (1 messages):\n",
            "system : [SUMMARY]\n",
            "The conversation started with the user greeting the assistant and asking how they are. The assistant responded that they are functioning properly and offered assistance. The user then inquired about the location of India, and the assistant provided a general geographical description. The user asked for a lesser-known fact about India, and the assistant mentioned that India has the largest number of languages spoken across its regions, with over 1,600 dialects and 22 official languages.\n"
          ]
        }
      ]
    },
    {
      "cell_type": "code",
      "source": [
        "# Testing for truncations\n",
        "print(\"--------Testing for turns---------\")\n",
        "print(\"Truncated by last 2 turns:\", convo_manager.truncate_by_turns(2)[0]['content'])\n",
        "print(\"----------------------\\n\")\n",
        "\n",
        "print(\"--------Testing for truncation by characters---------\")\n",
        "print(\"Truncated by last 30 chars:\", convo_manager.truncate_by_chars(30)[0]['content'])\n",
        "print(\"----------------------\\n\")\n",
        "\n",
        "print(\"--------Testing for truncation by words---------\")\n",
        "print(\"Truncated by 10 words:\", convo_manager.truncate_by_words(10)[0]['content'])\n",
        "print(\"----------------------\\n\")"
      ],
      "metadata": {
        "colab": {
          "base_uri": "https://localhost:8080/",
          "height": 0
        },
        "id": "nSm7MgbnPvF3",
        "outputId": "14eb97c9-2f0a-4d4b-a21a-c10bf722689a"
      },
      "execution_count": 25,
      "outputs": [
        {
          "output_type": "stream",
          "name": "stdout",
          "text": [
            "--------Testing for turns---------\n",
            "Truncated by last 2 turns: [SUMMARY]\n",
            "The conversation started with the user greeting the assistant and asking how they are. The assistant responded that they are functioning properly and offered assistance. The user then inquired about the location of India, and the assistant provided a general geographical description. The user asked for a lesser-known fact about India, and the assistant mentioned that India has the largest number of languages spoken across its regions, with over 1,600 dialects and 22 official languages.\n",
            "----------------------\n",
            "\n",
            "--------Testing for truncation by characters---------\n",
            "Truncated by last 30 chars: cts and 22 official languages.\n",
            "----------------------\n",
            "\n",
            "--------Testing for truncation by words---------\n",
            "Truncated by 10 words: its regions, with over 1,600 dialects and 22 official languages.\n",
            "----------------------\n",
            "\n"
          ]
        }
      ]
    },
    {
      "cell_type": "markdown",
      "source": [
        "Note : Instead of writing our prompts in the code, a pipeline can be created to chat with the bot in real time. For testing purposes, the user prompts are pre defined."
      ],
      "metadata": {
        "id": "lNpYMpI6SoXG"
      }
    },
    {
      "cell_type": "markdown",
      "source": [
        "### Conversation history\n",
        "LLMs are stateless which means they do not remember past messages. LLMs generally rely on tokens which are fed to them and these tokens have a limit too. When the limit is reached, the older messages are dropped in order to accomodate the new ones. Therefore we must maintain a list of messages explicitly.\n",
        "\n",
        "Each message has:\n",
        "\n",
        "*   role - \"user\",\"system\",assistant\"\n",
        "*   content - contains the text\n",
        "\n",
        "Approach I have followed to implement this:\n",
        "\n",
        "*   For storing the history, I will be using python dictionaries. These dictonaries will then be chained together using List data structures.\n",
        "*   I will be creating helper function to add messages to 'history'.\n",
        "*   At later stages, this created 'history' can be sent to LLMs.\n",
        "*   This layer will easily seprate conversational memory with the rest of the logic and will be the fundamental step to the whole assignment\n",
        "\n",
        "\n",
        "\n",
        "\n",
        "\n",
        "\n",
        "\n"
      ],
      "metadata": {
        "id": "vdHbZdJehbD_"
      }
    },
    {
      "cell_type": "markdown",
      "source": [
        "### Summarization\n",
        "If we keep on appending the conversation forever, the database will grow huge taking a toll on memory. Additionaly, the API calls will become expensive and slow due to large amount of tokens being given as input. Thus summarization is required.\n",
        "Summarization compresses history while keeping the contextual meaning intact.\n",
        "\n",
        "Approach:\n",
        "\n",
        "\n",
        "*   Need to keep a track of run_count (already added in the above code)\n",
        "*   The user will provide a parameter 'k'. This parameter will govern after how many runs we need to perform summarization. Thus, when count%k==0, I will perform summarization.\n",
        "*   For summarizatioin, I will be employing Groq.\n",
        "*   After summarization is done, I will be replacing the old messages with the new summarized ones.\n",
        "\n",
        "\n",
        "\n"
      ],
      "metadata": {
        "id": "Ip-0UBprrc1b"
      }
    },
    {
      "cell_type": "markdown",
      "source": [
        "### Truncation\n",
        "Truncation refers to removing/omitting some part of the word or sentence we are dealing with. Even after summarization, we sometimes require to truncate the history for further increase in effeciency.\n",
        "\n",
        "Approach:\n",
        "Will be using 3 seprate functions for different types of truncations which are: truncation by characters, truncation by words and lastly, truncating and keeping last 'n' messages."
      ],
      "metadata": {
        "id": "Wcmaxg5oMqb0"
      }
    },
    {
      "cell_type": "markdown",
      "source": [
        "## Task 2:\n",
        "### 1. Create a JSON schema to extract 5 details from chats related to information collection (e.g., name, email, phone, location, age).\n",
        "### 2. Structured Outputs are required\n",
        "### 3. Perfor testing for the above requirements\n"
      ],
      "metadata": {
        "id": "AEKhFajtTiIM"
      }
    },
    {
      "cell_type": "code",
      "source": [
        "from groq import Groq\n",
        "import json\n",
        "from jsonschema import Draft7Validator\n",
        "\n",
        "# Setting up Groq\n",
        "client=Groq(api_key=api_key)\n",
        "\n",
        "# Defining schema\n",
        "schema={\n",
        "    \"type\":\"object\",\n",
        "    \"properties\":{\n",
        "        \"name\":{\"type\":[\"string\",\"null\"],\"description\": \"Extract ONLY if the user explicitly provides their name. Do NOT infer from email or context.\"},\n",
        "        \"email\":{\"type\":[\"string\",\"null\"],\"format\":\"email\"},\n",
        "        \"phone\":{\"type\":[\"string\",\"null\"]},\n",
        "        \"location\":{\"type\":[\"string\",\"null\"]},\n",
        "        \"age\":{\"type\":[\"integer\",\"null\"],\"minimum\":0,\"maximum\":120},\n",
        "    }\n",
        "}\n",
        "\n",
        "function_spec={\n",
        "    \"name\": \"extract_user_information\",\n",
        "    \"description\": \"Extract name, email, phone, location and age from a chat message.\",\n",
        "    \"parameters\": schema\n",
        "}\n",
        "\n",
        "def extraction(chat_text:str):\n",
        "  response=client.chat.completions.create(\n",
        "      model=\"llama-3.1-8b-instant\",\n",
        "      messages=[\n",
        "          {\"role\":\"system\",\"content\":\"You are a information extractor. Your goal is to extract information from the text and return it in structured json output.Do not add anything extra\"},\n",
        "          {\"role\":\"user\",\"content\":chat_text}\n",
        "      ],\n",
        "      functions=[function_spec],\n",
        "      function_call={\"name\":\"extract_user_information\"}\n",
        "  )\n",
        "\n",
        "  raw_args=response.choices[0].message.function_call.arguments\n",
        "  extracted=json.loads(raw_args)\n",
        "  return extracted\n",
        "\n",
        "def validator(extracted:dict):\n",
        "  validator=Draft7Validator(schema)\n",
        "  errors=sorted(validator.iter_errors(extracted), key=lambda e: e.path)\n",
        "  if not errors:\n",
        "    return True, []\n",
        "  formatted_errors = []\n",
        "  for err in errors:\n",
        "    field_path = \".\".join([str(p) for p in err.path]) or \"root\"\n",
        "    formatted_errors.append(f\"Field '{field_path}': {err.message}\")\n",
        "  return False, formatted_errors\n",
        "\n",
        "\n",
        "\n",
        "# Testing and demo\n",
        "sample_chats1 = [\n",
        "    \"Hello I am Ansh and I am student right now in Delhi. I am 21 years old and using anshmaliktest@example.com as my primary email address.\",\n",
        "    \"Hi, my name is Rohit Sharma. I'm 28 years old and live in Bengaluru. You can reach me at rohit.sharma@example.com or +91 98765 43210.\",\n",
        "    \"Hello. I moved to Mumbai last year. Contact: priya_conn@domain.co. Age: 32.\"\n",
        "\n",
        "]\n",
        "\n",
        "results=[]\n",
        "\n",
        "for chat in sample_chats1:\n",
        "    extracted = extraction(chat)\n",
        "    valid, errors = validator(extracted)\n",
        "    results.append({\n",
        "        \"chat\": chat,\n",
        "        \"extracted\": extracted,\n",
        "        \"valid\": valid,\n",
        "        \"errors\": errors\n",
        "    })\n",
        "\n",
        "\n",
        "import pprint\n",
        "pprint.pprint(results)"
      ],
      "metadata": {
        "id": "7H_MW9F3rcgd",
        "colab": {
          "base_uri": "https://localhost:8080/",
          "height": 0
        },
        "outputId": "3f3303be-614e-4c1c-efb8-470eec182817"
      },
      "execution_count": 52,
      "outputs": [
        {
          "output_type": "stream",
          "name": "stdout",
          "text": [
            "[{'chat': 'Hello I am Ansh and I am student right now in Delhi. I am 21 years '\n",
            "          'old and using anshmaliktest@example.com as my primary email '\n",
            "          'address.',\n",
            "  'errors': [],\n",
            "  'extracted': {'age': 21,\n",
            "                'email': 'anshmaliktest@example.com',\n",
            "                'location': 'Delhi',\n",
            "                'name': 'Ansh',\n",
            "                'phone': None},\n",
            "  'valid': True},\n",
            " {'chat': \"Hi, my name is Rohit Sharma. I'm 28 years old and live in \"\n",
            "          'Bengaluru. You can reach me at rohit.sharma@example.com or +91 '\n",
            "          '98765 43210.',\n",
            "  'errors': [],\n",
            "  'extracted': {'age': 28,\n",
            "                'email': 'rohit.sharma@example.com',\n",
            "                'location': 'Bengaluru',\n",
            "                'name': 'Rohit Sharma',\n",
            "                'phone': '+91 98765 43210'},\n",
            "  'valid': True},\n",
            " {'chat': 'Hello. I moved to Mumbai last year. Contact: priya_conn@domain.co. '\n",
            "          'Age: 32.',\n",
            "  'errors': [],\n",
            "  'extracted': {'age': 32,\n",
            "                'email': 'priya_conn@domain.co',\n",
            "                'location': 'Mumbai',\n",
            "                'name': 'None',\n",
            "                'phone': 'None'},\n",
            "  'valid': True}]\n"
          ]
        }
      ]
    },
    {
      "cell_type": "code",
      "source": [
        "from groq._exceptions import BadRequestError\n",
        "sample_chats2=[\n",
        "    \"Hi, my name is Rohit Sharma. I'm 150 years old and live in Bengaluru. You can reach me at rohit.sharma@example.com or +91 98765 43210.\"  # Will give error because validation fails\n",
        "]\n",
        "\n",
        "results=[]\n",
        "\n",
        "for chat in sample_chats2:\n",
        "  try:\n",
        "      extracted = extraction(chat)\n",
        "      valid, errors = validator(extracted)\n",
        "      results.append({\n",
        "          \"chat\": chat,\n",
        "          \"extracted\": extracted,\n",
        "          \"valid\": valid,\n",
        "          \"errors\": [str(e) for e in errors]\n",
        "      })\n",
        "  except BadRequestError as e:\n",
        "      error_info =None\n",
        "      try:\n",
        "            error_info = e.response.json()  # Convert Response -> dict\n",
        "      except Exception:\n",
        "            pass\n",
        "      if error_info is not None and \"error\" in error_info:\n",
        "          msg = error_info[\"error\"].get(\"message\", \"Unknown error\")\n",
        "          failed = error_info[\"error\"].get(\"failed_generation\", \"\")\n",
        "          results.append({\n",
        "              \"chat\": chat,\n",
        "              \"error_message\": msg,\n",
        "              \"failed_generation\": failed\n",
        "          })\n",
        "      else:\n",
        "          results.append({\n",
        "              \"chat\": chat,\n",
        "              \"error_message\": str(e)\n",
        "          })\n",
        "\n",
        "\n",
        "import pprint\n",
        "pprint.pprint(results)"
      ],
      "metadata": {
        "colab": {
          "base_uri": "https://localhost:8080/"
        },
        "id": "hxl0flCWb6qw",
        "outputId": "e6553ce9-5148-4804-995e-d68b56ee76e0"
      },
      "execution_count": 56,
      "outputs": [
        {
          "output_type": "stream",
          "name": "stdout",
          "text": [
            "[{'chat': \"Hi, my name is Rohit Sharma. I'm 150 years old and live in \"\n",
            "          'Bengaluru. You can reach me at rohit.sharma@example.com or +91 '\n",
            "          '98765 43210.',\n",
            "  'error_message': 'tool call validation failed: parameters for tool '\n",
            "                   'extract_user_information did not match schema: errors: '\n",
            "                   '[`/age`: must be <= 120 but found 150]',\n",
            "  'failed_generation': '<function=extract_user_information> {\"age\": 150, '\n",
            "                       '\"name\": \"Rohit Sharma\", \"location\": \"Bengaluru\", '\n",
            "                       '\"phone\": \"+91 98765 43210\", \"email\": '\n",
            "                       '\"rohit.sharma@example.com\"} </function>'}]\n"
          ]
        }
      ]
    }
  ]
}